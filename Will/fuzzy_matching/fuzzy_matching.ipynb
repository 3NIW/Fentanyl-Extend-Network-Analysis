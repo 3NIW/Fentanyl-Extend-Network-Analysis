{
 "cells": [
  {
   "cell_type": "code",
   "execution_count": 13,
   "metadata": {},
   "outputs": [],
   "source": [
    "# Installs\n",
    "# pip install fuzzywuzzy\n",
    "# pip install python-Levenshtein"
   ]
  },
  {
   "cell_type": "code",
   "execution_count": 2,
   "metadata": {},
   "outputs": [],
   "source": [
    "# Libraries\n",
    "import pandas as pd\n",
    "from fuzzywuzzy import fuzz, process"
   ]
  },
  {
   "cell_type": "code",
   "execution_count": 4,
   "metadata": {},
   "outputs": [],
   "source": [
    "# Data scraped from Team 3 last semester to test the fuzzy matching algorithm  \n",
    "chemnet_df = pd.read_csv('data/chemnet_contactdetails.csv')\n",
    "chinachemnet_df = pd.read_csv('data/chinachemnet_all.csv', encoding='latin1')\n",
    "foreign_trade_df = pd.read_csv('data/Foreign Trade with Contact Info.csv')\n",
    "guidechem_df = pd.read_csv('data/guidechem_all.csv')\n",
    "toocle_df = pd.read_csv('data/toocle_webscraped_id.csv')\n",
    "trade_asia_df = pd.read_csv('data/TradeAsia_with_contact_info.csv')\n",
    "# in trade_asia_df, rename Unique Company Names to Company Name to match other dataframes\n",
    "trade_asia_df.rename(columns={'Unique Company Names': 'Company Name'}, inplace=True)\n",
    "\n",
    "# Combine the \"Company Name\" columns from each dataframe and convert to a DataFrame\n",
    "combined_companies = pd.concat([\n",
    "    chemnet_df['Company Name'],\n",
    "    chinachemnet_df['Company Name'],\n",
    "    foreign_trade_df['Company Name'],\n",
    "    guidechem_df['Company Name'],\n",
    "    toocle_df['Company Name'],\n",
    "    trade_asia_df['Company Name']\n",
    "], axis=0).reset_index(drop=True)\n",
    "# Convert the result to a DataFrame with a single column 'Company Name'\n",
    "combined_companies = pd.DataFrame(combined_companies, columns=['Company Name'])\n",
    "# Add the index as a separate column called 'id'\n",
    "combined_companies['id'] = combined_companies.index\n",
    "# Reorder the columns to have 'id' first\n",
    "combined_companies = combined_companies[['id', 'Company Name']]\n",
    "company_names = combined_companies['Company Name'].dropna()"
   ]
  },
  {
   "attachments": {},
   "cell_type": "markdown",
   "metadata": {},
   "source": [
    "# Fuzzy Matching using Levenshtein Distance"
   ]
  },
  {
   "cell_type": "code",
   "execution_count": 25,
   "metadata": {},
   "outputs": [],
   "source": [
    "def get_fuzzy_matches(company_name: str, name_list: str, threshold: int=85) -> list[tuple[str, int]]:\n",
    "    \"\"\"\n",
    "    Find fuzzy matches for a given company name from a list of company names.\n",
    "    Only return matches that have a ratio above the threshold and are not an exact match of the input company.\n",
    "    \n",
    "    :param company_name: The company name to fuzzy match\n",
    "    :param name_list: The list of company names to match against\n",
    "    :param threshold: The similarity threshold for matches (default 85%)\n",
    "    :return: A list of tuples with matching company names and similarity scores\n",
    "    \"\"\"\n",
    "    # Get fuzzy matches using Levenshtein Distance\n",
    "    fuzzy_matches = process.extract(company_name, name_list, scorer=fuzz.ratio, limit=5)\n",
    "    filtered_matches = [match for match in fuzzy_matches if match[1] < 100 and match[1] >= threshold]\n",
    "    return filtered_matches\n",
    "    "
   ]
  },
  {
   "cell_type": "code",
   "execution_count": 26,
   "metadata": {},
   "outputs": [
    {
     "data": {
      "text/plain": [
       "'Yancheng Hongtai Bioengineering Co.,Ltd.'"
      ]
     },
     "execution_count": 26,
     "metadata": {},
     "output_type": "execute_result"
    }
   ],
   "source": [
    "example_company = company_names[0]\n",
    "example_company"
   ]
  },
  {
   "cell_type": "code",
   "execution_count": 27,
   "metadata": {},
   "outputs": [
    {
     "name": "stdout",
     "output_type": "stream",
     "text": [
      "Fuzzy Match List\n"
     ]
    }
   ],
   "source": [
    "fuzzy_matches = get_fuzzy_matches(example_company, company_names, threshold=85)\n",
    "print(\"Fuzzy Match List\")\n",
    "for match in fuzzy_matches:\n",
    "    print(f\" Match: {match[0]}, 'Similarity Score: {match[1]}\")"
   ]
  },
  {
   "cell_type": "code",
   "execution_count": 28,
   "metadata": {},
   "outputs": [],
   "source": [
    "def deduplicate_company_names(company_names: pd.Series, threshold: int=85) -> pd.Series:\n",
    "    \"\"\"\n",
    "    Deduplicate company names by fuzzy matching similar names and retaining one representative name.\n",
    "    \n",
    "    :param company_names: A list of company names to deduplicate\n",
    "    :param threshold: The similarity threshold for merging companies (default 85%)\n",
    "    :return: A pandas Series with deduplicated company names\n",
    "    \"\"\"\n",
    "    deduplicated_names = company_names.copy()\n",
    "    processed = set()  # Track companies that are already processed\n",
    "    for i, company in enumerate(company_names):\n",
    "        if company in processed:\n",
    "            continue\n",
    "        # Find fuzzy matches for the current company\n",
    "        matches = get_fuzzy_matches(company, company_names[i+1:], threshold=threshold)\n",
    "        # Replace similar names with the representative name\n",
    "        for match in matches:\n",
    "            similar_name = match[0]\n",
    "            # Replace all occurrences of the similar name with the representative company name\n",
    "            deduplicated_names = deduplicated_names.replace(similar_name, company)\n",
    "            processed.add(similar_name)\n",
    "        processed.add(company)  \n",
    "\n",
    "    return deduplicated_names.drop_duplicates()"
   ]
  },
  {
   "cell_type": "code",
   "execution_count": 29,
   "metadata": {},
   "outputs": [],
   "source": [
    "deduplicated_company_names = deduplicate_company_names(company_names, threshold=85)"
   ]
  },
  {
   "cell_type": "code",
   "execution_count": 30,
   "metadata": {},
   "outputs": [
    {
     "name": "stdout",
     "output_type": "stream",
     "text": [
      "0                 Yancheng Hongtai Bioengineering Co.,Ltd.\n",
      "1                           Smart Chemicals Group Co. Ltd.\n",
      "2        Yancheng HuaDe (DanCheng) Biological Engineeri...\n",
      "3                                  Spec-Chem Industry Inc.\n",
      "4                          Taixing Chemical Co., Ltd.(TCC)\n",
      "                               ...                        \n",
      "21792                                          zhishangbio\n",
      "21794                                     China RC company\n",
      "21797                   Shanghai Hanhong Trading Co., Ltd.\n",
      "21800                         Kunlun International CO.,LTD\n",
      "21801                                        hebeiminshang\n",
      "Name: Company Name, Length: 630, dtype: object\n"
     ]
    }
   ],
   "source": [
    "print(deduplicated_company_names)"
   ]
  },
  {
   "cell_type": "code",
   "execution_count": 31,
   "metadata": {},
   "outputs": [
    {
     "name": "stdout",
     "output_type": "stream",
     "text": [
      "Number of Companies in List before Fuzzy Matching: 21791\n",
      "Number of Companies in List after Fuzzy Matching: 630\n"
     ]
    }
   ],
   "source": [
    "print(f\"Number of Companies in List before Fuzzy Matching: {len(company_names)}\")\n",
    "print(f\"Number of Companies in List after Fuzzy Matching: {len(deduplicated_company_names)}\")"
   ]
  },
  {
   "cell_type": "code",
   "execution_count": 32,
   "metadata": {},
   "outputs": [],
   "source": [
    "# Uncomment to generate csv\n",
    "# deduplicated_company_names.to_csv('outputs/deduplicated_company_names.csv', index=False)"
   ]
  },
  {
   "cell_type": "code",
   "execution_count": null,
   "metadata": {},
   "outputs": [],
   "source": [
    "# Do the company refernce sheet next"
   ]
  }
 ],
 "metadata": {
  "kernelspec": {
   "display_name": "Python 3",
   "language": "python",
   "name": "python3"
  },
  "language_info": {
   "codemirror_mode": {
    "name": "ipython",
    "version": 3
   },
   "file_extension": ".py",
   "mimetype": "text/x-python",
   "name": "python",
   "nbconvert_exporter": "python",
   "pygments_lexer": "ipython3",
   "version": "3.11.2"
  },
  "orig_nbformat": 4
 },
 "nbformat": 4,
 "nbformat_minor": 2
}
