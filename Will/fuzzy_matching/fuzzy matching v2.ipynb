{
 "cells": [
  {
   "cell_type": "code",
   "execution_count": 1,
   "metadata": {},
   "outputs": [],
   "source": [
    "# Installs\n",
    "# pip install pandas\n",
    "# pip install fuzzywuzzy\n",
    "# pip install python-Levenshtein\n",
    "# pip install rapidfuzz"
   ]
  },
  {
   "cell_type": "code",
   "execution_count": 2,
   "metadata": {},
   "outputs": [],
   "source": [
    "import pandas as pd                       \n",
    "from rapidfuzz import fuzz                         \n",
    "from joblib import Parallel, delayed             \n",
    "from typing import List, Dict             "
   ]
  },
  {
   "cell_type": "code",
   "execution_count": 3,
   "metadata": {},
   "outputs": [],
   "source": [
    "# Adjust path here accordingly\n",
    "df = pd.read_csv('data/Master_Dataset_w_Cleaned_Company_Names.csv', encoding='latin1')"
   ]
  },
  {
   "cell_type": "code",
   "execution_count": 4,
   "metadata": {},
   "outputs": [],
   "source": [
    "# rename column Company_Name to Company Name \n",
    "df.rename(columns = {'Company_Name':'Company Name'}, inplace = True)"
   ]
  },
  {
   "cell_type": "code",
   "execution_count": 5,
   "metadata": {},
   "outputs": [],
   "source": [
    "# Set desired threshold here\n",
    "threshold = 90"
   ]
  },
  {
   "cell_type": "code",
   "execution_count": 6,
   "metadata": {},
   "outputs": [],
   "source": [
    "def find_similar_names(company_name: str, company_list: pd.Series, threshold: int) -> List[Dict[str, str]]:\n",
    "    \"\"\"\n",
    "    This function takes a company name and a list of companies, \n",
    "    and returns a list of dictionaries containing similar company names and their similarity scores.\n",
    "\n",
    "    Parameters:\n",
    "    company_name (str): The company name to compare.\n",
    "    company_list (pd.Series): A list of company names to compare against.\n",
    "    threshold (int): The minimum similarity score to consider a match.\n",
    "\n",
    "    Returns:\n",
    "    List[Dict[str, str]]: A list of dictionaries containing similar company names and their similarity scores.\n",
    "    \"\"\"\n",
    "    similar_names = []\n",
    "    \n",
    "    if pd.isna(company_name):\n",
    "        return similar_names\n",
    "    \n",
    "    for name in company_list:\n",
    "        if pd.isna(name):\n",
    "            continue\n",
    "        \n",
    "        similarity = fuzz.ratio(company_name, name)\n",
    "        if similarity >= threshold and company_name != name:\n",
    "            similar_names.append({\"name\": name, \"similarity\": similarity})\n",
    "    \n",
    "    return similar_names\n",
    "\n",
    "\n",
    "def process_row(index, row, company_list, threshold):\n",
    "    \"\"\"\n",
    "    Utility function to process each row in parallel to facilitate faster run times.\n",
    "    \"\"\"\n",
    "    return find_similar_names(row, company_list, threshold)\n"
   ]
  },
  {
   "cell_type": "code",
   "execution_count": 7,
   "metadata": {},
   "outputs": [],
   "source": [
    "company_list = df['Company Name']"
   ]
  },
  {
   "cell_type": "code",
   "execution_count": 8,
   "metadata": {},
   "outputs": [],
   "source": [
    "# Getting representative company name via similarity\n",
    "def get_most_representative_by_similarity(similar_names: List[Dict[str, int]]) -> str:\n",
    "    \"\"\"\n",
    "    Returns the company name with the highest similarity score from the list of similar names.\n",
    "\n",
    "    Parameters:\n",
    "    similar_names (List[Dict[str, int]]): A list of dictionaries containing similar company names and their similarity scores.\n",
    "\n",
    "    Returns:\n",
    "    str: The most representative company name based on similarity.\n",
    "    \"\"\"\n",
    "    if not similar_names:\n",
    "        return None\n",
    "    # Sort by similarity score and return the name with the highest score\n",
    "    most_representative = max(similar_names, key=lambda x: x['similarity'])\n",
    "    return most_representative['name']\n",
    "\n",
    "# Using joblib's Parallel and delayed to parallelize the function\n",
    "df['Similar Company Names'] = Parallel(n_jobs=-1)(delayed(process_row)(i, row, company_list, threshold) for i, row in df['Company Name'].items())\n",
    "df['Most Representative Company Name by Similarity'] = df['Similar Company Names'].apply(get_most_representative_by_similarity)\n"
   ]
  },
  {
   "cell_type": "code",
   "execution_count": 9,
   "metadata": {},
   "outputs": [],
   "source": [
    "\n",
    "df_similar_names = df[['Company Name', 'Similar Company Names', 'Most Representative Company Name by Similarity']]\n",
    "df_similar_names = df_similar_names[df_similar_names.astype(str)['Similar Company Names'] != '[]']\n",
    "df_similar_names.to_csv('outputs/Suggest via Similar Names Example Outputs.csv', index=False)"
   ]
  },
  {
   "cell_type": "markdown",
   "metadata": {},
   "source": [
    "# Choosing Representative Name by Frequency"
   ]
  },
  {
   "cell_type": "code",
   "execution_count": 10,
   "metadata": {},
   "outputs": [],
   "source": [
    "def get_most_representative_by_frequency(similar_names: List[Dict[str, int]], frequency_dict: Dict[str, int]) -> str:\n",
    "    \"\"\"\n",
    "    This function returns the company name that occurs the most frequently in the dataset.\n",
    "\n",
    "    Parameters:\n",
    "    similar_names (List[Dict[str, int]]): A list of dictionaries containing similar company names and their similarity scores.\n",
    "    frequency_dict (Dict[str, int]): A dictionary containing the frequency of each company name in the dataset.\n",
    "\n",
    "    Returns:\n",
    "    str: The most representative company name based on frequency of occurrence.\n",
    "    \"\"\"\n",
    "    if not similar_names:\n",
    "        return None\n",
    "    \n",
    "    most_representative = max(similar_names, key=lambda x: frequency_dict.get(x['name'], 0))\n",
    "    return most_representative['name']\n",
    "\n",
    "# Frequency of each company name\n",
    "company_frequency = df['Company Name'].value_counts().to_dict()\n",
    "# Use joblib's Parallel to parallelize the function\n",
    "df['Similar Company Names'] = Parallel(n_jobs=-1)(delayed(process_row)(i, row, company_list, threshold) for i, row in df['Company Name'].items())\n",
    "df['Most Representative Company by Frequency'] = df['Similar Company Names'].apply(lambda x: get_most_representative_by_frequency(x, company_frequency))\n"
   ]
  },
  {
   "cell_type": "markdown",
   "metadata": {},
   "source": []
  },
  {
   "cell_type": "code",
   "execution_count": 11,
   "metadata": {},
   "outputs": [],
   "source": [
    "df_frequency = df[['Company Name', 'Similar Company Names', 'Most Representative Company by Frequency']]\n",
    "df_frequency = df_frequency[df_frequency.astype(str)['Similar Company Names'] != '[]']\n",
    "df_frequency.to_csv('outputs/Suggest via Frequency Example Outputs.csv', index=False)"
   ]
  }
 ],
 "metadata": {
  "kernelspec": {
   "display_name": "Python 3",
   "language": "python",
   "name": "python3"
  },
  "language_info": {
   "codemirror_mode": {
    "name": "ipython",
    "version": 3
   },
   "file_extension": ".py",
   "mimetype": "text/x-python",
   "name": "python",
   "nbconvert_exporter": "python",
   "pygments_lexer": "ipython3",
   "version": "3.11.2"
  },
  "orig_nbformat": 4
 },
 "nbformat": 4,
 "nbformat_minor": 2
}
