{
 "cells": [
  {
   "cell_type": "code",
   "execution_count": 1,
   "metadata": {},
   "outputs": [],
   "source": [
    "import pandas as pd \n",
    "from fuzzywuzzy import fuzz\n",
    "from fuzzywuzzy import process\n",
    "from typing import List, Dict"
   ]
  },
  {
   "cell_type": "code",
   "execution_count": 2,
   "metadata": {},
   "outputs": [
    {
     "name": "stderr",
     "output_type": "stream",
     "text": [
      "/var/folders/ck/d0y04vcx6dl17dtgjb6dtcn40000gn/T/ipykernel_17315/3602300560.py:24: SettingWithCopyWarning: \n",
      "A value is trying to be set on a copy of a slice from a DataFrame.\n",
      "Try using .loc[row_indexer,col_indexer] = value instead\n",
      "\n",
      "See the caveats in the documentation: https://pandas.pydata.org/pandas-docs/stable/user_guide/indexing.html#returning-a-view-versus-a-copy\n",
      "  df_unique_names['Company Name'] = df_unique_names['Company Name'].str.title()\n"
     ]
    }
   ],
   "source": [
    "# Data Processing for Aggregating Contact Information\n",
    "df = pd.read_csv('data/merged_dataset.csv', encoding='latin1')\n",
    "# Columns with contact information\n",
    "contact_columns = [\n",
    "    'Company Name',\n",
    "    'Address',\n",
    "    'Zip',\n",
    "    'Phone',\n",
    "    'Email',\n",
    "    'Company Website'\n",
    "]\n",
    "# Create a new dataframe with only the contact information\n",
    "df_contact_info = df[contact_columns].copy()\n",
    "df_contact_info['Company Name'] = df_contact_info['Company Name'].str.lower().str.strip()\n",
    "df_unique_names = df_contact_info.drop_duplicates(\n",
    "    subset = [\n",
    "        'Company Name',\n",
    "        'Address',\n",
    "        'Phone',\n",
    "        'Email',\n",
    "        'Company Website'\n",
    "    ]\n",
    ")\n",
    "df_unique_names['Company Name'] = df_unique_names['Company Name'].str.title()"
   ]
  },
  {
   "cell_type": "code",
   "execution_count": 3,
   "metadata": {},
   "outputs": [],
   "source": [
    "def get_best_matches(name: str, choices: List[str], threshold: int = 85) -> List[str]:\n",
    "    \"\"\"\n",
    "    Return a list of best matches for a given company name based on fuzzy matching.\n",
    "    \n",
    "    Parameters:\n",
    "    name (str): The company name to match.\n",
    "    choices (List[str]): A list of company names to compare against.\n",
    "    threshold (int): The minimum score for a match to be considered (default is 85).\n",
    "    \n",
    "    Returns:\n",
    "    List[str]: A list of company names that match the input name based on the threshold.\n",
    "    \"\"\"\n",
    "    matches = process.extractBests(name, choices, scorer=fuzz.token_sort_ratio, score_cutoff=threshold)\n",
    "    return [match[0] for match in matches]\n"
   ]
  },
  {
   "cell_type": "code",
   "execution_count": 4,
   "metadata": {},
   "outputs": [
    {
     "name": "stderr",
     "output_type": "stream",
     "text": [
      "/var/folders/ck/d0y04vcx6dl17dtgjb6dtcn40000gn/T/ipykernel_17315/284281955.py:13: SettingWithCopyWarning: \n",
      "A value is trying to be set on a copy of a slice from a DataFrame.\n",
      "Try using .loc[row_indexer,col_indexer] = value instead\n",
      "\n",
      "See the caveats in the documentation: https://pandas.pydata.org/pandas-docs/stable/user_guide/indexing.html#returning-a-view-versus-a-copy\n",
      "  df_unique_names['Standardized Company Name'] = df_unique_names['Company Name'].map(company_map)\n"
     ]
    }
   ],
   "source": [
    "company_names = df_unique_names['Company Name'].unique()\n",
    "company_names = [name for name in company_names if isinstance(name, str)]\n",
    "company_map: Dict[str, str] = {}\n",
    "\n",
    "# Maps similar company names to the base name\n",
    "for name in company_names:\n",
    "    if name not in company_map:\n",
    "        best_matches = get_best_matches(name, company_names)\n",
    "        for match in best_matches:\n",
    "            company_map[match] = name  \n",
    "\n",
    "# Replace company names in the dataframe with the mapped base names\n",
    "df_unique_names['Standardized Company Name'] = df_unique_names['Company Name'].map(company_map)"
   ]
  },
  {
   "cell_type": "code",
   "execution_count": 5,
   "metadata": {},
   "outputs": [
    {
     "name": "stderr",
     "output_type": "stream",
     "text": [
      "/var/folders/ck/d0y04vcx6dl17dtgjb6dtcn40000gn/T/ipykernel_17315/1408050441.py:20: DeprecationWarning: DataFrameGroupBy.apply operated on the grouping columns. This behavior is deprecated, and in a future version of pandas the grouping columns will be excluded from the operation. Either pass `include_groups=False` to exclude the groupings or explicitly select the grouping columns after groupby to silence this warning.\n",
      "  df_aggregated = df_unique_names.groupby('Standardized Company Name').apply(aggregate_contact_info).reset_index()\n"
     ]
    }
   ],
   "source": [
    "def aggregate_contact_info(group: pd.DataFrame) -> pd.Series:\n",
    "    \"\"\"\n",
    "    Aggregate phone numbers, emails, addresses, and websites into a single entry for each group.\n",
    "    \n",
    "    Parameters:\n",
    "    group (pd.DataFrame): A group of rows representing a company with similar names.\n",
    "    \n",
    "    Returns:\n",
    "    pd.Series: A series containing the aggregated contact information for the group.\n",
    "    \"\"\"\n",
    "    aggregated = {\n",
    "        'Address(s)': '; '.join(group['Address'].dropna().unique()),\n",
    "        'Phone(s)': '; '.join(group['Phone'].dropna().unique()),\n",
    "        'Email(s)': '; '.join(group['Email'].dropna().unique()),\n",
    "        'Company Website': '; '.join(group['Company Website'].dropna().unique())\n",
    "    }\n",
    "    return pd.Series(aggregated)\n",
    "\n",
    "# Apply the aggregation to the grouped data by 'Standardized Company Name'\n",
    "df_aggregated = df_unique_names.groupby('Standardized Company Name').apply(aggregate_contact_info).reset_index()"
   ]
  },
  {
   "cell_type": "code",
   "execution_count": 6,
   "metadata": {},
   "outputs": [
    {
     "data": {
      "text/html": [
       "<div>\n",
       "<style scoped>\n",
       "    .dataframe tbody tr th:only-of-type {\n",
       "        vertical-align: middle;\n",
       "    }\n",
       "\n",
       "    .dataframe tbody tr th {\n",
       "        vertical-align: top;\n",
       "    }\n",
       "\n",
       "    .dataframe thead th {\n",
       "        text-align: right;\n",
       "    }\n",
       "</style>\n",
       "<table border=\"1\" class=\"dataframe\">\n",
       "  <thead>\n",
       "    <tr style=\"text-align: right;\">\n",
       "      <th></th>\n",
       "      <th>Standardized Company Name</th>\n",
       "      <th>Address(s)</th>\n",
       "      <th>Phone(s)</th>\n",
       "      <th>Email(s)</th>\n",
       "      <th>Company Website</th>\n",
       "    </tr>\n",
       "  </thead>\n",
       "  <tbody>\n",
       "    <tr>\n",
       "      <th>0</th>\n",
       "      <td>3B Scientific Corporation</td>\n",
       "      <td></td>\n",
       "      <td>8.62E+12</td>\n",
       "      <td>john@adarchn.com</td>\n",
       "      <td></td>\n",
       "    </tr>\n",
       "    <tr>\n",
       "      <th>1</th>\n",
       "      <td>3Way Pharm Inc. (Shanghai)</td>\n",
       "      <td>Room D218-219, No. 128, Xiangyin Road, Yangpu ...</td>\n",
       "      <td>86-15618982688</td>\n",
       "      <td>sales@3wpharm.com</td>\n",
       "      <td>http://www.3wpharm.com</td>\n",
       "    </tr>\n",
       "    <tr>\n",
       "      <th>2</th>\n",
       "      <td>A.M Food Chemical Co., Limited</td>\n",
       "      <td>No.12406,jing shi Road.Jinan,China, , Shandong...</td>\n",
       "      <td>86-13964066237</td>\n",
       "      <td>chenli@amfoodchem.com</td>\n",
       "      <td>http://www.am-chemical.com</td>\n",
       "    </tr>\n",
       "    <tr>\n",
       "      <th>3</th>\n",
       "      <td>Advanced Technology &amp; Industrial Co., Ltd.</td>\n",
       "      <td>, , , China</td>\n",
       "      <td>(852) 23902293</td>\n",
       "      <td>sales@advtechind.com</td>\n",
       "      <td>www.advtechind.com</td>\n",
       "    </tr>\n",
       "    <tr>\n",
       "      <th>4</th>\n",
       "      <td>Afine Chemicals Limited</td>\n",
       "      <td>7-601 ,Xigang Xinjie, Xihu Industrial Park, Sa...</td>\n",
       "      <td>86-571-85232125Â  85232161Â  85134551; 86-571-...</td>\n",
       "      <td>info@afinechem.com; info@afinechem.com   sales...</td>\n",
       "      <td>www.afinechem.com</td>\n",
       "    </tr>\n",
       "  </tbody>\n",
       "</table>\n",
       "</div>"
      ],
      "text/plain": [
       "                    Standardized Company Name  \\\n",
       "0                   3B Scientific Corporation   \n",
       "1                  3Way Pharm Inc. (Shanghai)   \n",
       "2              A.M Food Chemical Co., Limited   \n",
       "3  Advanced Technology & Industrial Co., Ltd.   \n",
       "4                     Afine Chemicals Limited   \n",
       "\n",
       "                                          Address(s)  \\\n",
       "0                                                      \n",
       "1  Room D218-219, No. 128, Xiangyin Road, Yangpu ...   \n",
       "2  No.12406,jing shi Road.Jinan,China, , Shandong...   \n",
       "3                                        , , , China   \n",
       "4  7-601 ,Xigang Xinjie, Xihu Industrial Park, Sa...   \n",
       "\n",
       "                                            Phone(s)  \\\n",
       "0                                           8.62E+12   \n",
       "1                                     86-15618982688   \n",
       "2                                     86-13964066237   \n",
       "3                                     (852) 23902293   \n",
       "4  86-571-85232125Â  85232161Â  85134551; 86-571-...   \n",
       "\n",
       "                                            Email(s)  \\\n",
       "0                                   john@adarchn.com   \n",
       "1                                  sales@3wpharm.com   \n",
       "2                              chenli@amfoodchem.com   \n",
       "3                               sales@advtechind.com   \n",
       "4  info@afinechem.com; info@afinechem.com   sales...   \n",
       "\n",
       "              Company Website  \n",
       "0                              \n",
       "1      http://www.3wpharm.com  \n",
       "2  http://www.am-chemical.com  \n",
       "3          www.advtechind.com  \n",
       "4           www.afinechem.com  "
      ]
     },
     "execution_count": 6,
     "metadata": {},
     "output_type": "execute_result"
    }
   ],
   "source": [
    "df_aggregated.head()"
   ]
  },
  {
   "cell_type": "code",
   "execution_count": 7,
   "metadata": {},
   "outputs": [
    {
     "data": {
      "text/plain": [
       "{'ABC Corporation': 'ABC Corporation',\n",
       " 'ABC Corp.': 'ABC Corporation',\n",
       " 'Corp ABC': 'ABC Corporation',\n",
       " 'XYZ Ltd': 'XYZ Ltd',\n",
       " 'XYZ Limited': 'XYZ Ltd'}"
      ]
     },
     "execution_count": 7,
     "metadata": {},
     "output_type": "execute_result"
    }
   ],
   "source": [
    "{\n",
    "    \"ABC Corporation\": \"ABC Corporation\",\n",
    "    \"ABC Corp.\": \"ABC Corporation\",\n",
    "    \"Corp ABC\": \"ABC Corporation\",\n",
    "    \"XYZ Ltd\": \"XYZ Ltd\",\n",
    "    \"XYZ Limited\": \"XYZ Ltd\"\n",
    "}"
   ]
  }
 ],
 "metadata": {
  "kernelspec": {
   "display_name": "Python 3",
   "language": "python",
   "name": "python3"
  },
  "language_info": {
   "codemirror_mode": {
    "name": "ipython",
    "version": 3
   },
   "file_extension": ".py",
   "mimetype": "text/x-python",
   "name": "python",
   "nbconvert_exporter": "python",
   "pygments_lexer": "ipython3",
   "version": "3.11.2"
  }
 },
 "nbformat": 4,
 "nbformat_minor": 2
}
