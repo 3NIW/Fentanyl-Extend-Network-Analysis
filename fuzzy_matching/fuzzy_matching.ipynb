{
 "cells": [
  {
   "cell_type": "code",
   "execution_count": 8,
   "metadata": {},
   "outputs": [],
   "source": [
    "# Installs\n",
    "# pip install fuzzywuzzy\n",
    "# pip install python-Levenshtein"
   ]
  },
  {
   "cell_type": "code",
   "execution_count": 24,
   "metadata": {},
   "outputs": [],
   "source": [
    "# Libraries\n",
    "import pandas as pd\n",
    "from fuzzywuzzy import fuzz, process"
   ]
  },
  {
   "cell_type": "code",
   "execution_count": null,
   "metadata": {},
   "outputs": [],
   "source": [
    "# Path to your data goes here\n",
    "df = pd.read_csv('chemnet_contactdetails.csv')\n",
    "names = df['Company Name'].dropna()"
   ]
  },
  {
   "attachments": {},
   "cell_type": "markdown",
   "metadata": {},
   "source": [
    "# Fuzzy Matching using Levenshtein Distance"
   ]
  },
  {
   "cell_type": "code",
   "execution_count": 20,
   "metadata": {},
   "outputs": [],
   "source": [
    "def get_fuzzy_matches(company_name: str, name_list: str, threshold: int=85) -> list[tuple[str, int]]:\n",
    "    \"\"\"\n",
    "    Find fuzzy matches for a given company name from a list of company names.\n",
    "    Only return matches that have a ratio above the threshold and are not an exact match of the input company.\n",
    "    \n",
    "    :param company_name: The company name to fuzzy match\n",
    "    :param name_list: The list of company names to match against\n",
    "    :param threshold: The similarity threshold for matches (default 85%)\n",
    "    :return: A list of tuples with matching company names and similarity scores\n",
    "    \"\"\"\n",
    "    # Get fuzzy matches using Levenshtein Distance\n",
    "    fuzzy_matches = process.extract(company_name, name_list, scorer=fuzz.ratio, limit=5)\n",
    "    filtered_matches = [match for match in fuzzy_matches if match[1] < 100 and match[1] >= threshold]\n",
    "    return filtered_matches\n",
    "    "
   ]
  },
  {
   "cell_type": "code",
   "execution_count": 17,
   "metadata": {},
   "outputs": [
    {
     "data": {
      "text/plain": [
       "'Yancheng Hongtai Bioengineering Co.,Ltd.'"
      ]
     },
     "execution_count": 17,
     "metadata": {},
     "output_type": "execute_result"
    }
   ],
   "source": [
    "# Choosing a company to match against\n",
    "example_compnay = names[0]\n",
    "example_compnay"
   ]
  },
  {
   "cell_type": "code",
   "execution_count": 25,
   "metadata": {},
   "outputs": [
    {
     "name": "stdout",
     "output_type": "stream",
     "text": [
      "Fuzzy Match List\n",
      " Match: Yancheng HuaDe (DanCheng) Biological Engineering Co.,Ltd., 'Similarity Score: 74\n",
      " Match: Yancheng HuaDe (DanCheng) Biological Engineering Co.,Ltd., 'Similarity Score: 74\n",
      " Match: Yancheng Sanhe biochemical co., ltd, 'Similarity Score: 65\n"
     ]
    }
   ],
   "source": [
    "fuzzy_matches = get_fuzzy_matches('Yancheng Hongtai Bioengineering Co.,Ltd.', names, threshold=50)\n",
    "print(\"Fuzzy Match List\")\n",
    "for match in fuzzy_matches:\n",
    "    print(f\" Match: {match[0]}, 'Similarity Score: {match[1]}\")"
   ]
  }
 ],
 "metadata": {
  "kernelspec": {
   "display_name": "Python 3",
   "language": "python",
   "name": "python3"
  },
  "language_info": {
   "codemirror_mode": {
    "name": "ipython",
    "version": 3
   },
   "file_extension": ".py",
   "mimetype": "text/x-python",
   "name": "python",
   "nbconvert_exporter": "python",
   "pygments_lexer": "ipython3",
   "version": "3.11.2"
  },
  "orig_nbformat": 4
 },
 "nbformat": 4,
 "nbformat_minor": 2
}
